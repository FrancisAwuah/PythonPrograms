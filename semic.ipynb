{
 "cells": [
  {
   "cell_type": "code",
   "execution_count": 19,
   "metadata": {},
   "outputs": [],
   "source": [
    "import numpy as np\n",
    "import matplotlib.pyplot as plt\n",
    "import pandas as pd\n",
    "import statsmodels as sm"
   ]
  },
  {
   "cell_type": "code",
   "execution_count": 20,
   "metadata": {},
   "outputs": [
    {
     "name": "stdout",
     "output_type": "stream",
     "text": [
      "        id     length        age  infection  cultur   xray    bed  affiliat  \\\n",
      "0      1.0   7.130000  55.700000        4.1     9.0   39.6  279.0       2.0   \n",
      "1      2.0   8.820000  58.200000        1.6     3.8   51.7   80.0       2.0   \n",
      "2      3.0   8.340000  56.900000        2.7     8.1   74.0  107.0       2.0   \n",
      "3      4.0   8.950000  53.700000        5.6    18.9  122.8  147.0       2.0   \n",
      "4      5.0  11.200000  56.500000        5.7    34.5   88.9  180.0       2.0   \n",
      "..     ...        ...        ...        ...     ...    ...    ...       ...   \n",
      "109  110.0   9.500000  49.300000        5.8    42.0   70.9   98.0       2.0   \n",
      "110  111.0   7.700000  56.900000        4.4    12.2   67.9  129.0       2.0   \n",
      "111  112.0  17.940000  56.200000        5.9    26.4   91.8  835.0       1.0   \n",
      "112  113.0   9.410000  59.500000        3.1    20.6   91.7   29.0       2.0   \n",
      "113    NaN   9.648319  53.231858        NaN     NaN    NaN    NaN       NaN   \n",
      "\n",
      "     region  patient  nurse  facility  \n",
      "0       4.0    207.0  241.0      60.0  \n",
      "1       2.0     51.0   52.0      40.0  \n",
      "2       3.0     82.0   54.0      20.0  \n",
      "3       4.0     53.0  148.0      40.0  \n",
      "4       1.0    134.0  151.0      40.0  \n",
      "..      ...      ...    ...       ...  \n",
      "109     3.0     68.0   46.0      22.9  \n",
      "110     4.0     85.0  136.0      62.9  \n",
      "111     1.0    791.0  407.0      62.9  \n",
      "112     3.0     20.0   22.0      22.9  \n",
      "113     NaN      NaN    NaN       NaN  \n",
      "\n",
      "[114 rows x 12 columns]\n",
      "        id     length        age  infection  cultur   xray    bed  affiliat  \\\n",
      "0      1.0   7.130000  55.700000        4.1     9.0   39.6  279.0       2.0   \n",
      "1      2.0   8.820000  58.200000        1.6     3.8   51.7   80.0       2.0   \n",
      "2      3.0   8.340000  56.900000        2.7     8.1   74.0  107.0       2.0   \n",
      "3      4.0   8.950000  53.700000        5.6    18.9  122.8  147.0       2.0   \n",
      "4      5.0  11.200000  56.500000        5.7    34.5   88.9  180.0       2.0   \n",
      "..     ...        ...        ...        ...     ...    ...    ...       ...   \n",
      "109  110.0   9.500000  49.300000        5.8    42.0   70.9   98.0       2.0   \n",
      "110  111.0   7.700000  56.900000        4.4    12.2   67.9  129.0       2.0   \n",
      "111  112.0  17.940000  56.200000        5.9    26.4   91.8  835.0       1.0   \n",
      "112  113.0   9.410000  59.500000        3.1    20.6   91.7   29.0       2.0   \n",
      "113    NaN   9.648319  53.231858        NaN     NaN    NaN    NaN       NaN   \n",
      "\n",
      "     region  patient  nurse  facility  \n",
      "0       4.0    207.0  241.0      60.0  \n",
      "1       2.0     51.0   52.0      40.0  \n",
      "2       3.0     82.0   54.0      20.0  \n",
      "3       4.0     53.0  148.0      40.0  \n",
      "4       1.0    134.0  151.0      40.0  \n",
      "..      ...      ...    ...       ...  \n",
      "109     3.0     68.0   46.0      22.9  \n",
      "110     4.0     85.0  136.0      62.9  \n",
      "111     1.0    791.0  407.0      62.9  \n",
      "112     3.0     20.0   22.0      22.9  \n",
      "113     NaN      NaN    NaN       NaN  \n",
      "\n",
      "[114 rows x 12 columns]\n"
     ]
    }
   ],
   "source": [
    "senic_data = pd.read_csv('/home/kofi/Downloads/senic.csv')\n",
    "print(senic_data)\n",
    "data = pd.DataFrame(senic_data)\n",
    "print(data)"
   ]
  },
  {
   "cell_type": "code",
   "execution_count": 21,
   "metadata": {},
   "outputs": [
    {
     "name": "stdout",
     "output_type": "stream",
     "text": [
      "                            OLS Regression Results                            \n",
      "==============================================================================\n",
      "Dep. Variable:                 length   R-squared:                       0.285\n",
      "Model:                            OLS   Adj. R-squared:                  0.278\n",
      "Method:                 Least Squares   F-statistic:                     44.15\n",
      "Date:                Thu, 13 Oct 2022   Prob (F-statistic):           1.18e-09\n",
      "Time:                        15:50:49   Log-Likelihood:                -214.13\n",
      "No. Observations:                 113   AIC:                             432.3\n",
      "Df Residuals:                     111   BIC:                             437.7\n",
      "Df Model:                           1                                         \n",
      "Covariance Type:            nonrobust                                         \n",
      "==============================================================================\n",
      "                 coef    std err          t      P>|t|      [0.025      0.975]\n",
      "------------------------------------------------------------------------------\n",
      "Intercept      6.3368      0.521     12.156      0.000       5.304       7.370\n",
      "infection      0.7604      0.114      6.645      0.000       0.534       0.987\n",
      "==============================================================================\n",
      "Omnibus:                       62.988   Durbin-Watson:                   2.096\n",
      "Prob(Omnibus):                  0.000   Jarque-Bera (JB):              331.570\n",
      "Skew:                           1.814   Prob(JB):                     1.00e-72\n",
      "Kurtosis:                      10.567   Cond. No.                         16.2\n",
      "==============================================================================\n",
      "\n",
      "Notes:\n",
      "[1] Standard Errors assume that the covariance matrix of the errors is correctly specified.\n"
     ]
    }
   ],
   "source": [
    "from statsmodels.formula.api import ols\n",
    "model1 = ols(\"length ~ infection\", data).fit()\n",
    "print(model1.summary())"
   ]
  },
  {
   "cell_type": "code",
   "execution_count": 22,
   "metadata": {},
   "outputs": [
    {
     "name": "stdout",
     "output_type": "stream",
     "text": [
      "                            OLS Regression Results                            \n",
      "==============================================================================\n",
      "Dep. Variable:                 length   R-squared:                       0.336\n",
      "Model:                            OLS   Adj. R-squared:                  0.318\n",
      "Method:                 Least Squares   F-statistic:                     18.41\n",
      "Date:                Thu, 13 Oct 2022   Prob (F-statistic):           9.78e-10\n",
      "Time:                        15:50:49   Log-Likelihood:                -209.88\n",
      "No. Observations:                 113   AIC:                             427.8\n",
      "Df Residuals:                     109   BIC:                             438.7\n",
      "Df Model:                           3                                         \n",
      "Covariance Type:            nonrobust                                         \n",
      "==============================================================================\n",
      "                 coef    std err          t      P>|t|      [0.025      0.975]\n",
      "------------------------------------------------------------------------------\n",
      "Intercept      4.8009      0.742      6.468      0.000       3.330       6.272\n",
      "infection      0.5286      0.137      3.866      0.000       0.258       0.800\n",
      "xray           0.0192      0.009      2.208      0.029       0.002       0.036\n",
      "facility       0.0227      0.011      2.102      0.038       0.001       0.044\n",
      "==============================================================================\n",
      "Omnibus:                       64.109   Durbin-Watson:                   1.986\n",
      "Prob(Omnibus):                  0.000   Jarque-Bera (JB):              326.635\n",
      "Skew:                           1.873   Prob(JB):                     1.18e-71\n",
      "Kurtosis:                      10.440   Cond. No.                         472.\n",
      "==============================================================================\n",
      "\n",
      "Notes:\n",
      "[1] Standard Errors assume that the covariance matrix of the errors is correctly specified.\n"
     ]
    }
   ],
   "source": [
    "model2 = ols(\"length ~ infection + xray + facility\", data).fit()\n",
    "print(model2.summary())"
   ]
  },
  {
   "cell_type": "code",
   "execution_count": 23,
   "metadata": {},
   "outputs": [
    {
     "name": "stdout",
     "output_type": "stream",
     "text": [
      "\n",
      "ANOVA RESULTS\n",
      "              df      sum_sq     mean_sq          F        PR(>F)\n",
      "infection    1.0  116.445856  116.445856  46.737199  4.889443e-10\n",
      "xray         1.0   10.185923   10.185923   4.088265  4.563142e-02\n",
      "facility     1.0   11.004810   11.004810   4.416937  3.788805e-02\n",
      "Residual   109.0  271.573792    2.491503        NaN           NaN\n"
     ]
    }
   ],
   "source": [
    "from statsmodels.stats.anova import anova_lm\n",
    "anova_results = anova_lm(model2)\n",
    "\n",
    "print('\\nANOVA RESULTS')\n",
    "print(anova_results)"
   ]
  }
 ],
 "metadata": {
  "kernelspec": {
   "display_name": "Python 3.10.6 64-bit",
   "language": "python",
   "name": "python3"
  },
  "language_info": {
   "codemirror_mode": {
    "name": "ipython",
    "version": 3
   },
   "file_extension": ".py",
   "mimetype": "text/x-python",
   "name": "python",
   "nbconvert_exporter": "python",
   "pygments_lexer": "ipython3",
   "version": "3.10.6"
  },
  "orig_nbformat": 4,
  "vscode": {
   "interpreter": {
    "hash": "916dbcbb3f70747c44a77c7bcd40155683ae19c65e1c03b4aa3499c5328201f1"
   }
  }
 },
 "nbformat": 4,
 "nbformat_minor": 2
}
