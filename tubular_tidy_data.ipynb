{
 "cells": [
  {
   "cell_type": "code",
   "execution_count": 8,
   "metadata": {},
   "outputs": [
    {
     "data": {
      "text/plain": [
       "[115910.26, 128, 4]"
      ]
     },
     "execution_count": 8,
     "metadata": {},
     "output_type": "execute_result"
    }
   ],
   "source": [
    "house_0_list = [115910.26, 128, 4]\n",
    "house_0_list"
   ]
  },
  {
   "cell_type": "code",
   "execution_count": 9,
   "metadata": {},
   "outputs": [
    {
     "data": {
      "text/plain": [
       "905.54890625"
      ]
     },
     "execution_count": 9,
     "metadata": {},
     "output_type": "execute_result"
    }
   ],
   "source": [
    "house_0_list[0]\n",
    "house_0_list[1]\n",
    "house_0_list[0] / house_0_list[1]"
   ]
  },
  {
   "cell_type": "code",
   "execution_count": 10,
   "metadata": {},
   "outputs": [
    {
     "data": {
      "text/plain": [
       "905.54890625"
      ]
     },
     "execution_count": 10,
     "metadata": {},
     "output_type": "execute_result"
    }
   ],
   "source": [
    "house_0_price_m2 = house_0_list[0] / house_0_list[1]\n",
    "house_0_price_m2"
   ]
  },
  {
   "cell_type": "code",
   "execution_count": 12,
   "metadata": {},
   "outputs": [
    {
     "data": {
      "text/plain": [
       "[115910.26, 128, 4, 905.54890625, 905.54890625]"
      ]
     },
     "execution_count": 12,
     "metadata": {},
     "output_type": "execute_result"
    }
   ],
   "source": [
    "# Append an item in a list\n",
    "house_0_list.append(house_0_price_m2)\n",
    "house_0_list"
   ]
  },
  {
   "cell_type": "code",
   "execution_count": 3,
   "metadata": {},
   "outputs": [
    {
     "data": {
      "text/plain": [
       "[[115910.26, 128.0, 4.0],\n",
       " [48718.17, 210.0, 3.0],\n",
       " [28977.56, 58.0, 2.0],\n",
       " [36932.27, 79.0, 3.0],\n",
       " [83903.51, 111.0, 3.0]]"
      ]
     },
     "execution_count": 3,
     "metadata": {},
     "output_type": "execute_result"
    }
   ],
   "source": [
    "#Nested list\n",
    "houses_nested_list = [\n",
    "    [115910.26, 128.0, 4.0],\n",
    "    [48718.17, 210.0, 3.0],\n",
    "    [28977.56, 58.0, 2.0],\n",
    "    [36932.27, 79.0, 3.0],\n",
    "    [83903.51, 111.0, 3.0],\n",
    "]\n",
    "houses_nested_list"
   ]
  },
  {
   "cell_type": "code",
   "execution_count": 5,
   "metadata": {},
   "outputs": [
    {
     "name": "stdout",
     "output_type": "stream",
     "text": [
      "[115910.26, 128.0, 4.0]\n",
      "[48718.17, 210.0, 3.0]\n",
      "[28977.56, 58.0, 2.0]\n",
      "[36932.27, 79.0, 3.0]\n",
      "[83903.51, 111.0, 3.0]\n"
     ]
    },
    {
     "data": {
      "text/plain": [
       "[[115910.26, 128.0, 4.0, 905.54890625],\n",
       " [48718.17, 210.0, 3.0, 231.9912857142857],\n",
       " [28977.56, 58.0, 2.0, 499.61310344827587],\n",
       " [36932.27, 79.0, 3.0, 467.4970886075949],\n",
       " [83903.51, 111.0, 3.0, 755.8874774774774]]"
      ]
     },
     "execution_count": 5,
     "metadata": {},
     "output_type": "execute_result"
    }
   ],
   "source": [
    "# for loop\n",
    "for house in houses_nested_list:\n",
    "    print(house)\n",
    "\n",
    "\n",
    "\n",
    "#finding the prices and appending them in the list\n",
    "for house in houses_nested_list:\n",
    "    price_m2 = house[0]/ house[1]\n",
    "    house.append(price_m2)\n",
    "\n",
    "houses_nested_list"
   ]
  },
  {
   "cell_type": "code",
   "execution_count": 12,
   "metadata": {},
   "outputs": [
    {
     "name": "stdout",
     "output_type": "stream",
     "text": [
      "{'price_aprox_usd': 115910.56, 'surface_covered_in_m2': 128, 'rooms': 4}\n",
      "115910.56\n",
      "128\n"
     ]
    },
    {
     "data": {
      "text/plain": [
       "{'price_aprox_usd': 115910.56,\n",
       " 'surface_covered_in_m2': 128,\n",
       " 'rooms': 4,\n",
       " 'price_per_m2': 905.55125}"
      ]
     },
     "execution_count": 12,
     "metadata": {},
     "output_type": "execute_result"
    }
   ],
   "source": [
    "#Working with Dictionaries\n",
    "house_0_dict = {\n",
    "    \"price_aprox_usd\": 115910.56,\n",
    "    \"surface_covered_in_m2\": 128,\n",
    "    \"rooms\": 4,\n",
    "}\n",
    "print(house_0_dict)\n",
    "print(house_0_dict[\"price_aprox_usd\"])\n",
    "print(house_0_dict[\"surface_covered_in_m2\"])\n",
    " \n",
    "house_0_dict[\"price_per_m2\"] = house_0_dict['price_aprox_usd'] /  house_0_dict[\"surface_covered_in_m2\"]\n",
    "house_0_dict\n"
   ]
  }
 ],
 "metadata": {
  "kernelspec": {
   "display_name": "Python 3.10.6 64-bit",
   "language": "python",
   "name": "python3"
  },
  "language_info": {
   "codemirror_mode": {
    "name": "ipython",
    "version": 3
   },
   "file_extension": ".py",
   "mimetype": "text/x-python",
   "name": "python",
   "nbconvert_exporter": "python",
   "pygments_lexer": "ipython3",
   "version": "3.10.6 (main, Nov 14 2022, 16:10:14) [GCC 11.3.0]"
  },
  "orig_nbformat": 4,
  "vscode": {
   "interpreter": {
    "hash": "916dbcbb3f70747c44a77c7bcd40155683ae19c65e1c03b4aa3499c5328201f1"
   }
  }
 },
 "nbformat": 4,
 "nbformat_minor": 2
}
