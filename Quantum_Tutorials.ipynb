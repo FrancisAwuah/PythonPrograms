{
 "cells": [
  {
   "cell_type": "code",
   "execution_count": 15,
   "metadata": {},
   "outputs": [
    {
     "name": "stdout",
     "output_type": "stream",
     "text": [
      "Good afternoon, ya'll!\n"
     ]
    }
   ],
   "source": [
    "print(\"Good afternoon, ya'll!\")"
   ]
  },
  {
   "cell_type": "code",
   "execution_count": 16,
   "metadata": {},
   "outputs": [
    {
     "name": "stdout",
     "output_type": "stream",
     "text": [
      "Today is a great day to learn\n"
     ]
    }
   ],
   "source": [
    "print(\"Today is a great day to learn\")"
   ]
  },
  {
   "cell_type": "code",
   "execution_count": 17,
   "metadata": {},
   "outputs": [
    {
     "name": "stdout",
     "output_type": "stream",
     "text": [
      "That means\n",
      "The print command is important.\n",
      "When we want to print each line\n"
     ]
    }
   ],
   "source": [
    "print(\"That means\")\n",
    "print(\"The print command is important.\")\n",
    "print(\"When we want to print each line\")\n"
   ]
  },
  {
   "cell_type": "code",
   "execution_count": 18,
   "metadata": {},
   "outputs": [],
   "source": [
    "# This is a comment. Run this cell. Do you see anything? Why or why not?"
   ]
  },
  {
   "cell_type": "code",
   "execution_count": 19,
   "metadata": {},
   "outputs": [
    {
     "name": "stdout",
     "output_type": "stream",
     "text": [
      "Once the # at the beginning of this line is removed, this string will print.\n"
     ]
    }
   ],
   "source": [
    "# In Python\n",
    "# Comments are a best-practice when it comes to communicating to your future self and to fellow developers\n",
    "print(\"Once the # at the beginning of this line is removed, this string will print.\") # additional hashtags make additional comments"
   ]
  },
  {
   "cell_type": "code",
   "execution_count": 20,
   "metadata": {},
   "outputs": [
    {
     "name": "stdout",
     "output_type": "stream",
     "text": [
      "Hello, Everybody!\n"
     ]
    }
   ],
   "source": [
    "# Variables hold values that we use later in the program by name.\n",
    "# \"Assigning a variable\"\n",
    "# Single = sign is called the assignment operator\n",
    "message = \"Hello, Everybody!\"\n",
    "print(message)"
   ]
  },
  {
   "cell_type": "code",
   "execution_count": 21,
   "metadata": {},
   "outputs": [
    {
     "name": "stdout",
     "output_type": "stream",
     "text": [
      "If you can't solve a problem, then there is an easier problem you can solve:  find it.\n"
     ]
    }
   ],
   "source": [
    "favorite_quote = \"If you can't solve a problem, then there is an easier problem you can solve:  find it.\"\n",
    "print(favorite_quote)\n"
   ]
  },
  {
   "cell_type": "code",
   "execution_count": 22,
   "metadata": {},
   "outputs": [
    {
     "name": "stdout",
     "output_type": "stream",
     "text": [
      "My favorite food is lasagna\n"
     ]
    }
   ],
   "source": [
    "# Variables are assigned to point to values.\n",
    "favorite_food = \"lasagna\"\n",
    "print(\"My favorite food is\", favorite_food)\n"
   ]
  },
  {
   "cell_type": "code",
   "execution_count": 23,
   "metadata": {},
   "outputs": [
    {
     "name": "stdout",
     "output_type": "stream",
     "text": [
      "I changed my mind. My favorite food is actually pizza\n"
     ]
    }
   ],
   "source": [
    "# Variables can also be re-assigned to point to different values.\n",
    "favorite_food = \"pizza\" \n",
    "print(\"I changed my mind. My favorite food is actually\", favorite_food)"
   ]
  },
  {
   "cell_type": "code",
   "execution_count": 24,
   "metadata": {},
   "outputs": [
    {
     "data": {
      "text/plain": [
       "NoneType"
      ]
     },
     "execution_count": 24,
     "metadata": {},
     "output_type": "execute_result"
    }
   ],
   "source": [
    "# The \"None\" data type represents the absence of a value. This is called \"null\" in some other programming languages\n",
    "type(None)"
   ]
  },
  {
   "cell_type": "code",
   "execution_count": 25,
   "metadata": {},
   "outputs": [
    {
     "data": {
      "text/plain": [
       "bool"
      ]
     },
     "execution_count": 25,
     "metadata": {},
     "output_type": "execute_result"
    }
   ],
   "source": [
    "type(True)\n"
   ]
  },
  {
   "cell_type": "code",
   "execution_count": 26,
   "metadata": {},
   "outputs": [
    {
     "data": {
      "text/plain": [
       "bool"
      ]
     },
     "execution_count": 26,
     "metadata": {},
     "output_type": "execute_result"
    }
   ],
   "source": [
    "type(False)\n"
   ]
  },
  {
   "cell_type": "code",
   "execution_count": 27,
   "metadata": {},
   "outputs": [
    {
     "data": {
      "text/plain": [
       "int"
      ]
     },
     "execution_count": 27,
     "metadata": {},
     "output_type": "execute_result"
    }
   ],
   "source": [
    "# Numbers without a decimal are integers. Integers can be negative or positive.\n",
    "type(-99)"
   ]
  },
  {
   "cell_type": "code",
   "execution_count": 28,
   "metadata": {},
   "outputs": [
    {
     "data": {
      "text/plain": [
       "float"
      ]
     },
     "execution_count": 28,
     "metadata": {},
     "output_type": "execute_result"
    }
   ],
   "source": [
    "\n",
    "type(2.3)\n"
   ]
  },
  {
   "cell_type": "code",
   "execution_count": 29,
   "metadata": {},
   "outputs": [
    {
     "name": "stdout",
     "output_type": "stream",
     "text": [
      "True\n",
      "False\n"
     ]
    }
   ],
   "source": [
    "# True and False are the only two Boolean values.\n",
    "True\n",
    "False\n",
    "\n",
    "print(True)\n",
    "print(False)"
   ]
  },
  {
   "cell_type": "code",
   "execution_count": 30,
   "metadata": {},
   "outputs": [
    {
     "data": {
      "text/plain": [
       "1"
      ]
     },
     "execution_count": 30,
     "metadata": {},
     "output_type": "execute_result"
    }
   ],
   "source": [
    "3 * 5\n",
    "type(11*7)\n",
    "1/2\n",
    "5/1\n",
    "5%2"
   ]
  },
  {
   "cell_type": "code",
   "execution_count": 31,
   "metadata": {},
   "outputs": [
    {
     "data": {
      "text/plain": [
       "True"
      ]
     },
     "execution_count": 31,
     "metadata": {},
     "output_type": "execute_result"
    }
   ],
   "source": [
    "2 < 3\n"
   ]
  },
  {
   "cell_type": "code",
   "execution_count": 32,
   "metadata": {},
   "outputs": [
    {
     "data": {
      "text/plain": [
       "True"
      ]
     },
     "execution_count": 32,
     "metadata": {},
     "output_type": "execute_result"
    }
   ],
   "source": [
    "\n",
    "2 <= 2\n"
   ]
  },
  {
   "cell_type": "code",
   "execution_count": 33,
   "metadata": {},
   "outputs": [
    {
     "data": {
      "text/plain": [
       "False"
      ]
     },
     "execution_count": 33,
     "metadata": {},
     "output_type": "execute_result"
    }
   ],
   "source": [
    "\n",
    "2 < 2\n"
   ]
  },
  {
   "cell_type": "code",
   "execution_count": 34,
   "metadata": {},
   "outputs": [
    {
     "data": {
      "text/plain": [
       "False"
      ]
     },
     "execution_count": 34,
     "metadata": {},
     "output_type": "execute_result"
    }
   ],
   "source": [
    "\n",
    "4 <= 2\n"
   ]
  },
  {
   "cell_type": "code",
   "execution_count": 35,
   "metadata": {},
   "outputs": [
    {
     "name": "stdout",
     "output_type": "stream",
     "text": [
      "5 > 4 is True\n"
     ]
    }
   ],
   "source": [
    "\n",
    "print(\"5 > 4 is\", 5 > 4)\n"
   ]
  },
  {
   "cell_type": "code",
   "execution_count": 36,
   "metadata": {},
   "outputs": [
    {
     "name": "stdout",
     "output_type": "stream",
     "text": [
      "1 > 0 is True\n"
     ]
    }
   ],
   "source": [
    "print(\"1 > 0 is\", 1 > 0)"
   ]
  },
  {
   "cell_type": "code",
   "execution_count": 37,
   "metadata": {},
   "outputs": [
    {
     "name": "stdout",
     "output_type": "stream",
     "text": [
      "True\n",
      "True\n"
     ]
    }
   ],
   "source": [
    "# Comparison operators give us back a True or False\n",
    "\n",
    "print(5 == 5)\n",
    "\n",
    "print(-4 + 4 == 0)"
   ]
  },
  {
   "cell_type": "code",
   "execution_count": 38,
   "metadata": {},
   "outputs": [
    {
     "data": {
      "text/plain": [
       "False"
      ]
     },
     "execution_count": 38,
     "metadata": {},
     "output_type": "execute_result"
    }
   ],
   "source": [
    "# False because they're not the same data type\n",
    "5 == \"5\"\n",
    "\n"
   ]
  },
  {
   "cell_type": "code",
   "execution_count": 39,
   "metadata": {},
   "outputs": [
    {
     "name": "stdout",
     "output_type": "stream",
     "text": [
      "False\n",
      "True\n"
     ]
    },
    {
     "data": {
      "text/plain": [
       "False"
      ]
     },
     "execution_count": 39,
     "metadata": {},
     "output_type": "execute_result"
    }
   ],
   "source": [
    "print(\"Hello\" == \"Goodbye\")\n",
    "print(\"Hello\" != \"Goodbye\") # != means \"not equal to\" \n",
    "# = assignment# False because they're not the same data type\n",
    "5 == \"5\""
   ]
  },
  {
   "cell_type": "code",
   "execution_count": 40,
   "metadata": {},
   "outputs": [
    {
     "data": {
      "text/plain": [
       "False"
      ]
     },
     "execution_count": 40,
     "metadata": {},
     "output_type": "execute_result"
    }
   ],
   "source": [
    "not True"
   ]
  },
  {
   "cell_type": "code",
   "execution_count": 41,
   "metadata": {},
   "outputs": [
    {
     "data": {
      "text/plain": [
       "True"
      ]
     },
     "execution_count": 41,
     "metadata": {},
     "output_type": "execute_result"
    }
   ],
   "source": [
    "not False"
   ]
  },
  {
   "cell_type": "code",
   "execution_count": 42,
   "metadata": {},
   "outputs": [
    {
     "data": {
      "text/plain": [
       "True"
      ]
     },
     "execution_count": 42,
     "metadata": {},
     "output_type": "execute_result"
    }
   ],
   "source": [
    "not not True"
   ]
  },
  {
   "cell_type": "code",
   "execution_count": 43,
   "metadata": {},
   "outputs": [
    {
     "name": "stdout",
     "output_type": "stream",
     "text": [
      "Truth Table for AND logic\n",
      "True and True is: True\n",
      "True and False is: False\n",
      "False and True is: False\n",
      "False and False is: False\n"
     ]
    }
   ],
   "source": [
    "# Truth table for AND\n",
    "print(\"Truth Table for AND logic\")\n",
    "print(\"True and True is:\", True and True)\n",
    "print(\"True and False is:\", True and False)\n",
    "print(\"False and True is:\", False and True)\n",
    "print(\"False and False is:\", False and False)"
   ]
  },
  {
   "cell_type": "code",
   "execution_count": 44,
   "metadata": {},
   "outputs": [
    {
     "name": "stdout",
     "output_type": "stream",
     "text": [
      "False\n",
      "True\n"
     ]
    }
   ],
   "source": [
    "\n",
    "# Boolean values assigned to variables \n",
    "right_here_now = True\n",
    "learning_python = True\n",
    "on_the_moon = False\n",
    "\n",
    "# Ands need all values to be true for the entire expression to be True\n",
    "print(right_here_now and on_the_moon)\n",
    "\n",
    "\n",
    "# Read the line of code below and think about the result. \n",
    "# An OR statement only needs a single True for the entire expression to be True\n",
    "print(learning_python or on_the_moon)\n",
    "\n"
   ]
  },
  {
   "cell_type": "code",
   "execution_count": 45,
   "metadata": {},
   "outputs": [
    {
     "name": "stdout",
     "output_type": "stream",
     "text": [
      "So glad you made it today!\n",
      "Wherever you go, there you are.\n",
      "Unindented means the if/else is over, and we're back to our regularly scheduled programming.\n"
     ]
    }
   ],
   "source": [
    "# the \"if\" evaluates the code to the right to see if it returns True or False.\n",
    "# If the code returns `True`, then we run the code that's indented below the if.\n",
    "\n",
    "right_here_now = True\n",
    "\n",
    "if right_here_now:\n",
    "    print(\"So glad you made it today!\")\n",
    "    print(\"Wherever you go, there you are.\")\n",
    "else:\n",
    "    print(\"You are not right here now.\")\n",
    "    \n",
    "print(\"Unindented means the if/else is over, and we're back to our regularly scheduled programming.\")"
   ]
  },
  {
   "cell_type": "code",
   "execution_count": 46,
   "metadata": {},
   "outputs": [
    {
     "name": "stdout",
     "output_type": "stream",
     "text": [
      "20 is greater than 18\n"
     ]
    }
   ],
   "source": [
    "if 20 > 18:\n",
    "    print(\"20 is greater than 18\")\n"
   ]
  },
  {
   "cell_type": "code",
   "execution_count": 47,
   "metadata": {},
   "outputs": [
    {
     "name": "stdout",
     "output_type": "stream",
     "text": [
      "b is greater than a\n"
     ]
    }
   ],
   "source": [
    "a = 33\n",
    "b = 200\n",
    "if b > a:\n",
    "  print(\"b is greater than a\")"
   ]
  },
  {
   "cell_type": "code",
   "execution_count": 48,
   "metadata": {},
   "outputs": [
    {
     "name": "stdout",
     "output_type": "stream",
     "text": [
      "a and b are equal\n"
     ]
    }
   ],
   "source": [
    "a = 33\n",
    "b = 33\n",
    "if b > a:\n",
    "  print(\"b is greater than a\")\n",
    "elif a == b:\n",
    "  print(\"a and b are equal\")"
   ]
  },
  {
   "cell_type": "code",
   "execution_count": 49,
   "metadata": {},
   "outputs": [
    {
     "name": "stdout",
     "output_type": "stream",
     "text": [
      "a is greater than b\n"
     ]
    }
   ],
   "source": [
    " a = 200\n",
    "b = 33\n",
    "if b > a:\n",
    "  print(\"b is greater than a\")\n",
    "elif a == b:\n",
    "  print(\"a and b are equal\")\n",
    "else:\n",
    "  print(\"a is greater than b\")"
   ]
  },
  {
   "cell_type": "code",
   "execution_count": 50,
   "metadata": {},
   "outputs": [
    {
     "name": "stdout",
     "output_type": "stream",
     "text": [
      "b is not greater than a\n"
     ]
    }
   ],
   "source": [
    "a = 200\n",
    "b = 33\n",
    "if b > a:\n",
    "  print(\"b is greater than a\")\n",
    "else:\n",
    "  print(\"b is not greater than a\")"
   ]
  },
  {
   "cell_type": "code",
   "execution_count": 51,
   "metadata": {},
   "outputs": [
    {
     "name": "stdout",
     "output_type": "stream",
     "text": [
      "['apple', 'banana', 'cherry']\n"
     ]
    }
   ],
   "source": [
    "thislist = [\"apple\", \"banana\", \"cherry\"]\n",
    "print(thislist)"
   ]
  },
  {
   "cell_type": "code",
   "execution_count": 52,
   "metadata": {},
   "outputs": [
    {
     "name": "stdout",
     "output_type": "stream",
     "text": [
      "['apple', 'banana', 'cherry']\n"
     ]
    }
   ],
   "source": [
    "thislist = list((\"apple\", \"banana\", \"cherry\")) # note the double round-brackets\n",
    "print(thislist)"
   ]
  },
  {
   "cell_type": "code",
   "execution_count": 53,
   "metadata": {},
   "outputs": [
    {
     "name": "stdout",
     "output_type": "stream",
     "text": [
      "['cherry', 'orange', 'kiwi']\n"
     ]
    }
   ],
   "source": [
    "\n",
    "thislist = [\"apple\", \"banana\", \"cherry\", \"orange\", \"kiwi\", \"melon\", \"mango\"]\n",
    "print(thislist[2:5])"
   ]
  },
  {
   "cell_type": "code",
   "execution_count": 54,
   "metadata": {},
   "outputs": [
    {
     "name": "stdout",
     "output_type": "stream",
     "text": [
      "Yes, 'apple' is in the fruits list\n"
     ]
    }
   ],
   "source": [
    "\n",
    "\n",
    "\n",
    "\n",
    "\n",
    "\n",
    "thislist = [\"apple\", \"banana\", \"cherry\"]\n",
    "if \"apple\" in thislist:\n",
    "  print(\"Yes, 'apple' is in the fruits list\") "
   ]
  },
  {
   "cell_type": "code",
   "execution_count": 55,
   "metadata": {},
   "outputs": [
    {
     "name": "stdout",
     "output_type": "stream",
     "text": [
      "<class 'tuple'>\n",
      "<class 'str'>\n"
     ]
    }
   ],
   "source": [
    "\n",
    "thistuple = (\"apple\",)\n",
    "print(type(thistuple))\n",
    "\n",
    "#NOT a tuple\n",
    "thistuple = (\"apple\")\n",
    "print(type(thistuple)) "
   ]
  },
  {
   "cell_type": "code",
   "execution_count": 1,
   "metadata": {},
   "outputs": [
    {
     "name": "stdout",
     "output_type": "stream",
     "text": [
      "Defaulting to user installation because normal site-packages is not writeable\n",
      "Collecting qiskit\n",
      "  Downloading qiskit-0.43.0.tar.gz (10.0 kB)\n",
      "  Installing build dependencies ... \u001b[?25ldone\n",
      "\u001b[?25h  Getting requirements to build wheel ... \u001b[?25ldone\n",
      "\u001b[?25h  Installing backend dependencies ... \u001b[?25ldone\n",
      "\u001b[?25h  Preparing metadata (pyproject.toml) ... \u001b[?25ldone\n",
      "\u001b[?25hCollecting qiskit-ibmq-provider==0.20.2\n",
      "  Downloading qiskit_ibmq_provider-0.20.2-py3-none-any.whl (241 kB)\n",
      "\u001b[2K     \u001b[90m━━━━━━━━━━━━━━━━━━━━━━━━━━━━━━━━━━━━━━━\u001b[0m \u001b[32m241.5/241.5 kB\u001b[0m \u001b[31m4.7 MB/s\u001b[0m eta \u001b[36m0:00:00\u001b[0ma \u001b[36m0:00:01\u001b[0m\n",
      "\u001b[?25hCollecting qiskit-aer==0.12.0\n",
      "  Downloading qiskit_aer-0.12.0-cp310-cp310-manylinux_2_17_x86_64.manylinux2014_x86_64.whl (12.8 MB)\n",
      "\u001b[2K     \u001b[90m━━━━━━━━━━━━━━━━━━━━━━━━━━━━━━━━━━━━━━━━\u001b[0m \u001b[32m12.8/12.8 MB\u001b[0m \u001b[31m1.8 MB/s\u001b[0m eta \u001b[36m0:00:00\u001b[0m00:01\u001b[0m00:01\u001b[0m\n",
      "\u001b[?25hCollecting qiskit-terra==0.24.0\n",
      "  Downloading qiskit_terra-0.24.0-cp310-cp310-manylinux_2_17_x86_64.manylinux2014_x86_64.whl (5.9 MB)\n",
      "\u001b[2K     \u001b[90m━━━━━━━━━━━━━━━━━━━━━━━━━━━━━━━━━━━━━━━━\u001b[0m \u001b[32m5.9/5.9 MB\u001b[0m \u001b[31m2.4 MB/s\u001b[0m eta \u001b[36m0:00:00\u001b[0m00:01\u001b[0m00:01\u001b[0m\n",
      "\u001b[?25hRequirement already satisfied: scipy>=1.0 in /home/kofi/.local/lib/python3.10/site-packages (from qiskit-aer==0.12.0->qiskit) (1.8.0)\n",
      "Requirement already satisfied: numpy>=1.16.3 in /home/kofi/.local/lib/python3.10/site-packages (from qiskit-aer==0.12.0->qiskit) (1.22.3)\n",
      "Collecting websockets>=10.0\n",
      "  Downloading websockets-11.0.3-cp310-cp310-manylinux_2_5_x86_64.manylinux1_x86_64.manylinux_2_17_x86_64.manylinux2014_x86_64.whl (129 kB)\n",
      "\u001b[2K     \u001b[90m━━━━━━━━━━━━━━━━━━━━━━━━━━━━━━━━━━━━━━━\u001b[0m \u001b[32m129.9/129.9 kB\u001b[0m \u001b[31m3.3 MB/s\u001b[0m eta \u001b[36m0:00:00\u001b[0ma \u001b[36m0:00:01\u001b[0m\n",
      "\u001b[?25hRequirement already satisfied: python-dateutil>=2.8.0 in /home/kofi/.local/lib/python3.10/site-packages (from qiskit-ibmq-provider==0.20.2->qiskit) (2.8.2)\n",
      "Requirement already satisfied: requests>=2.19 in /usr/lib/python3/dist-packages (from qiskit-ibmq-provider==0.20.2->qiskit) (2.25.1)\n",
      "Requirement already satisfied: urllib3>=1.21.1 in /usr/lib/python3/dist-packages (from qiskit-ibmq-provider==0.20.2->qiskit) (1.26.5)\n",
      "Collecting websocket-client>=1.5.1\n",
      "  Downloading websocket_client-1.5.1-py3-none-any.whl (55 kB)\n",
      "\u001b[2K     \u001b[90m━━━━━━━━━━━━━━━━━━━━━━━━━━━━━━━━━━━━━━━━\u001b[0m \u001b[32m55.9/55.9 kB\u001b[0m \u001b[31m3.4 MB/s\u001b[0m eta \u001b[36m0:00:00\u001b[0m\n",
      "\u001b[?25hCollecting requests-ntlm<=1.1.0\n",
      "  Downloading requests_ntlm-1.1.0-py2.py3-none-any.whl (5.7 kB)\n",
      "Requirement already satisfied: ply>=3.10 in /usr/lib/python3/dist-packages (from qiskit-terra==0.24.0->qiskit) (3.11)\n",
      "Collecting rustworkx>=0.12.0\n",
      "  Downloading rustworkx-0.12.1-cp310-cp310-manylinux_2_17_x86_64.manylinux2014_x86_64.whl (1.9 MB)\n",
      "\u001b[2K     \u001b[90m━━━━━━━━━━━━━━━━━━━━━━━━━━━━━━━━━━━━━━━━\u001b[0m \u001b[32m1.9/1.9 MB\u001b[0m \u001b[31m2.2 MB/s\u001b[0m eta \u001b[36m0:00:00\u001b[0m00:01\u001b[0m00:01\u001b[0m\n",
      "\u001b[?25hCollecting dill>=0.3\n",
      "  Downloading dill-0.3.6-py3-none-any.whl (110 kB)\n",
      "\u001b[2K     \u001b[90m━━━━━━━━━━━━━━━━━━━━━━━━━━━━━━━━━━━━━━━\u001b[0m \u001b[32m110.5/110.5 kB\u001b[0m \u001b[31m5.0 MB/s\u001b[0m eta \u001b[36m0:00:00\u001b[0m\n",
      "\u001b[?25hCollecting stevedore>=3.0.0\n",
      "  Downloading stevedore-5.0.0-py3-none-any.whl (49 kB)\n",
      "\u001b[2K     \u001b[90m━━━━━━━━━━━━━━━━━━━━━━━━━━━━━━━━━━━━━━━━\u001b[0m \u001b[32m49.6/49.6 kB\u001b[0m \u001b[31m2.9 MB/s\u001b[0m eta \u001b[36m0:00:00\u001b[0m\n",
      "\u001b[?25hCollecting symengine<0.10,>=0.9\n",
      "  Downloading symengine-0.9.2-cp310-cp310-manylinux2010_x86_64.whl (37.5 MB)\n",
      "\u001b[2K     \u001b[90m━━━━━━━━━━━━━━━━━━━━━━━━━━━━━━━━━━━━━━━\u001b[0m \u001b[32m37.5/37.5 MB\u001b[0m \u001b[31m677.7 kB/s\u001b[0m eta \u001b[36m0:00:00\u001b[0m00:01\u001b[0m00:02\u001b[0m\n",
      "\u001b[?25hRequirement already satisfied: sympy>=1.3 in /usr/lib/python3/dist-packages (from qiskit-terra==0.24.0->qiskit) (1.9)\n",
      "Requirement already satisfied: psutil>=5 in /home/kofi/.local/lib/python3.10/site-packages (from qiskit-terra==0.24.0->qiskit) (5.9.0)\n",
      "Requirement already satisfied: six>=1.5 in /usr/lib/python3/dist-packages (from python-dateutil>=2.8.0->qiskit-ibmq-provider==0.20.2->qiskit) (1.16.0)\n",
      "Collecting ntlm-auth>=1.0.2\n",
      "  Downloading ntlm_auth-1.5.0-py2.py3-none-any.whl (29 kB)\n",
      "Requirement already satisfied: cryptography>=1.3 in /home/kofi/.local/lib/python3.10/site-packages (from requests-ntlm<=1.1.0->qiskit-ibmq-provider==0.20.2->qiskit) (38.0.1)\n",
      "Collecting pbr!=2.1.0,>=2.0.0\n",
      "  Downloading pbr-5.11.1-py2.py3-none-any.whl (112 kB)\n",
      "\u001b[2K     \u001b[90m━━━━━━━━━━━━━━━━━━━━━━━━━━━━━━━━━━━━━\u001b[0m \u001b[32m112.7/112.7 kB\u001b[0m \u001b[31m804.6 kB/s\u001b[0m eta \u001b[36m0:00:00\u001b[0m00:01\u001b[0m00:01\u001b[0m\n",
      "\u001b[?25hRequirement already satisfied: cffi>=1.12 in /home/kofi/.local/lib/python3.10/site-packages (from cryptography>=1.3->requests-ntlm<=1.1.0->qiskit-ibmq-provider==0.20.2->qiskit) (1.15.0)\n",
      "Requirement already satisfied: pycparser in /home/kofi/.local/lib/python3.10/site-packages (from cffi>=1.12->cryptography>=1.3->requests-ntlm<=1.1.0->qiskit-ibmq-provider==0.20.2->qiskit) (2.21)\n",
      "Building wheels for collected packages: qiskit\n",
      "  Building wheel for qiskit (pyproject.toml) ... \u001b[?25ldone\n",
      "\u001b[?25h  Created wheel for qiskit: filename=qiskit-0.43.0-py3-none-any.whl size=7996 sha256=b2474acec2a27bb95868ce0227157f8883fbf92aa03f355b4030dd2e1ca71ca3\n",
      "  Stored in directory: /home/kofi/.cache/pip/wheels/18/0e/e7/6e639fdc59f7784217ff433b5d716a149500a4aac750eee664\n",
      "Successfully built qiskit\n",
      "Installing collected packages: websockets, websocket-client, symengine, rustworkx, pbr, ntlm-auth, dill, stevedore, requests-ntlm, qiskit-terra, qiskit-ibmq-provider, qiskit-aer, qiskit\n",
      "Successfully installed dill-0.3.6 ntlm-auth-1.5.0 pbr-5.11.1 qiskit-0.43.0 qiskit-aer-0.12.0 qiskit-ibmq-provider-0.20.2 qiskit-terra-0.24.0 requests-ntlm-1.1.0 rustworkx-0.12.1 stevedore-5.0.0 symengine-0.9.2 websocket-client-1.5.1 websockets-11.0.3\n",
      "\n",
      "\u001b[1m[\u001b[0m\u001b[34;49mnotice\u001b[0m\u001b[1;39;49m]\u001b[0m\u001b[39;49m A new release of pip available: \u001b[0m\u001b[31;49m22.3.1\u001b[0m\u001b[39;49m -> \u001b[0m\u001b[32;49m23.1.2\u001b[0m\n",
      "\u001b[1m[\u001b[0m\u001b[34;49mnotice\u001b[0m\u001b[1;39;49m]\u001b[0m\u001b[39;49m To update, run: \u001b[0m\u001b[32;49mpip install --upgrade pip\u001b[0m\n",
      "Note: you may need to restart the kernel to use updated packages.\n"
     ]
    }
   ],
   "source": [
    "pip install qiskit"
   ]
  },
  {
   "cell_type": "code",
   "execution_count": null,
   "metadata": {},
   "outputs": [],
   "source": [
    "*Kindly run the code below to install the Qiskit package*\n",
    "\n",
    "\n",
    "\n",
    "_pip install qiskit_"
   ]
  },
  {
   "cell_type": "code",
   "execution_count": 1,
   "metadata": {},
   "outputs": [
    {
     "name": "stdout",
     "output_type": "stream",
     "text": [
      "\n",
      "Please wait a moment while I gather a list of all available modules...\n",
      "\n"
     ]
    },
    {
     "name": "stderr",
     "output_type": "stream",
     "text": [
      "/usr/lib/python3/dist-packages/paramiko/transport.py:236: CryptographyDeprecationWarning: Blowfish has been deprecated\n",
      "  \"class\": algorithms.Blowfish,\n",
      "2023-05-12 12:59:24.575851: W tensorflow/stream_executor/platform/default/dso_loader.cc:64] Could not load dynamic library 'libcudart.so.11.0'; dlerror: libcudart.so.11.0: cannot open shared object file: No such file or directory\n",
      "2023-05-12 12:59:24.575896: I tensorflow/stream_executor/cuda/cudart_stub.cc:29] Ignore above cudart dlerror if you do not have a GPU set up on your machine.\n",
      "2023-05-12 12:59:24.674778: E tensorflow/stream_executor/cuda/cuda_blas.cc:2981] Unable to register cuBLAS factory: Attempting to register factory for plugin cuBLAS when one has already been registered\n",
      "2023-05-12 12:59:26.358983: W tensorflow/stream_executor/platform/default/dso_loader.cc:64] Could not load dynamic library 'libnvinfer.so.7'; dlerror: libnvinfer.so.7: cannot open shared object file: No such file or directory\n",
      "2023-05-12 12:59:26.359172: W tensorflow/stream_executor/platform/default/dso_loader.cc:64] Could not load dynamic library 'libnvinfer_plugin.so.7'; dlerror: libnvinfer_plugin.so.7: cannot open shared object file: No such file or directory\n",
      "2023-05-12 12:59:26.359187: W tensorflow/compiler/tf2tensorrt/utils/py_utils.cc:38] TF-TRT Warning: Cannot dlopen some TensorRT libraries. If you would like to use Nvidia GPU with TensorRT, please make sure the missing libraries mentioned above are installed properly.\n",
      "/home/kofi/.local/lib/python3.10/site-packages/nltk/twitter/__init__.py:20: UserWarning: The twython library has not been installed. Some functionality from the twitter package will not be available.\n",
      "  warnings.warn(\n",
      "/usr/lib/python3.10/pkgutil.py:92: UserWarning: The numpy.array_api submodule is still experimental. See NEP 47.\n",
      "  __import__(info.name)\n",
      "/usr/lib/python3.10/pkgutil.py:107: VisibleDeprecationWarning: zmq.eventloop.minitornado is deprecated in pyzmq 14.0 and will be removed.\n",
      "    Install tornado itself to use zmq with the tornado IOLoop.\n",
      "    \n",
      "  yield from walk_packages(path, info.name+'.', onerror)\n",
      "/usr/lib/python3/dist-packages/brial/PyPolyBoRi.py:72: DeprecationWarning: \n",
      "Importing order_dict from here is deprecated. If you need to use it, please import it directly from sage.rings.polynomial.pbori.pbori\n",
      "See https://trac.sagemath.org/30332 for details.\n",
      "  OrderCode = type('OrderCode', (object,), dict(order_dict))\n",
      "/usr/lib/python3/dist-packages/brial/PyPolyBoRi.py:91: DeprecationWarning: \n",
      "Importing MonomialFactory from here is deprecated. If you need to use it, please import it directly from sage.rings.polynomial.pbori.pbori\n",
      "See https://trac.sagemath.org/30332 for details.\n",
      "  Monomial = MonomialFactory()\n",
      "/usr/lib/python3/dist-packages/brial/PyPolyBoRi.py:92: DeprecationWarning: \n",
      "Importing PolynomialFactory from here is deprecated. If you need to use it, please import it directly from sage.rings.polynomial.pbori.pbori\n",
      "See https://trac.sagemath.org/30332 for details.\n",
      "  Polynomial = PolynomialFactory()\n",
      "/usr/lib/python3.10/pkgutil.py:92: DeprecationWarning: please use 'debian' instead of 'debian_bundle'\n",
      "  __import__(info.name)\n",
      "/usr/lib/python3/dist-packages/future/standard_library/__init__.py:65: DeprecationWarning: the imp module is deprecated in favour of importlib and slated for removal in Python 3.12; see the module's documentation for alternative uses\n",
      "  import imp\n",
      "/usr/lib/python3.10/pkgutil.py:92: MatplotlibDeprecationWarning: \n",
      "The mpl_toolkits.axes_grid module was deprecated in Matplotlib 2.1 and will be removed two minor releases later. Use mpl_toolkits.axes_grid1 and mpl_toolkits.axisartist, which provide the same functionality instead.\n",
      "  __import__(info.name)\n",
      "<frozen importlib._bootstrap>:283: DeprecationWarning: the load_module() method is deprecated and slated for removal in Python 3.12; use exec_module() instead\n",
      "/usr/lib/python3.10/pkgutil.py:92: DeprecationWarning: the package sage.finance is deprecated\n",
      "See https://trac.sagemath.org/32427 for details.\n",
      "  __import__(info.name)\n",
      "// Giac share root-directory:/usr/share/giac/\n",
      "// Giac share root-directory:/usr/share/giac/\n",
      "Added 0 synonyms\n",
      "/usr/lib/python3.10/pkgutil.py:92: DeprecationWarning: the package sage.media is deprecated\n",
      "See http://trac.sagemath.org/12673 for details.\n",
      "  __import__(info.name)\n",
      "/usr/lib/python3/dist-packages/sympy/physics/quantum/matrixutils.py:43: DeprecationWarning: Please use `spmatrix` from the `scipy.sparse` namespace, the `scipy.sparse.base` namespace is deprecated.\n",
      "  scipy_sparse_matrix = sparse.base.spmatrix  # type: ignore\n"
     ]
    },
    {
     "name": "stdout",
     "output_type": "stream",
     "text": [
      "4beginners          bleach              jupyter_core        requests_oauthlib\n",
      "AptUrl              blinker             jupyterlab_pygments resource\n",
      "CommandNotFound     brial               jupyterlab_widgets  rlcompleter\n",
      "Cython              brlapi              jwt                 roman\n",
      "DistUpgrade         brotli              keras               rsa\n",
      "HweSupportStatus    bs4                 keras_preprocessing runpy\n",
      "IPython             bson                keyring             rustworkx\n",
      "LanguageSelector    builtins            keyword             sage\n",
      "Name                bz2                 kiwisolver          sage_conf\n",
      "NvidiaDetector      cProfile            language_support_pkgs sagenb_export\n",
      "OpenSSL             cachetools          launchpadlib        sagetex\n",
      "PIL                 cairo               ldb                 sagetexparse\n",
      "Quirks              calendar            lib2to3             scanext\n",
      "UbuntuDrivers       cape                libfuturize         sched\n",
      "UpdateManager       certifi             libpasteurize       scipy\n",
      "Weighted            cffi                linecache           scrapy\n",
      "__future__          cgi                 locale              seaborn\n",
      "_abc                cgitb               lockfile            secrets\n",
      "_aix_support        chardet             logging             secretstorage\n",
      "_argon2_cffi_bindings chunk               louis               select\n",
      "_ast                clang               lsb_release         selectors\n",
      "_asyncio            click               lxml                send2trash\n",
      "_bisect             cmath               lz4                 service_identity\n",
      "_blake2             cmd                 lzma                setuptools\n",
      "_bootsubprocess     code                macaroonbakery      shelve\n",
      "_brotli             codecs              mailbox             shlex\n",
      "_bz2                codeop              mailcap             shutil\n",
      "_cffi_backend       collections         mako                signal\n",
      "_codecs             colorama            markdown            site\n",
      "_codecs_cn          colorsys            markupsafe          sitecustomize\n",
      "_codecs_hk          compileall          marshal             six\n",
      "_codecs_iso2022     concurrent          math                sklearn\n",
      "_codecs_jp          configparser        matplotlib          smtpd\n",
      "_codecs_kr          constantly          matplotlib_inline   smtplib\n",
      "_codecs_tw          contextlib          memory_allocator    sndhdr\n",
      "_collections        contextvars         mimetypes           snowballstemmer\n",
      "_collections_abc    copy                mistune             socket\n",
      "_compat_pickle      copyreg             mmap                socketserver\n",
      "_compression        crypt               modulefinder        softwareproperties\n",
      "_contextvars        cryptography        monotonic           soupsieve\n",
      "_crypt              cssselect           more_itertools      speechd\n",
      "_csv                csv                 mpl_toolkits        speechd_config\n",
      "_ctypes             ctypes              mpmath              sphinx\n",
      "_ctypes_test        cups                multiprocessing     spwd\n",
      "_curses             cupsext             nacl                sqlite3\n",
      "_curses_panel       cupshelpers         nbclient            sre_compile\n",
      "_datetime           curses              nbconvert           sre_constants\n",
      "_dbm                cycler              nbformat            sre_parse\n",
      "_dbus_bindings      cypari2             nest_asyncio        srings\n",
      "_dbus_glib_bindings cysignals           netifaces           ssl\n",
      "_decimal            cython              netrc               stack_data\n",
      "_distutils_hack     dataclasses         networkx            stat\n",
      "_distutils_system_mod datetime            nis                 statistics\n",
      "_elementtree        dateutil            nltk                statsmodels\n",
      "_functools          dbm                 nntplib             stevedore\n",
      "_gdbm               dbus                notebook            string\n",
      "_hashlib            deb822              ntlm_auth           stringMethods\n",
      "_heapq              debconf             ntpath              stringprep\n",
      "_imp                debian              nturl2path          struct\n",
      "_io                 debian_bundle       numbers             subprocess\n",
      "_json               debugpy             numpy               sunau\n",
      "_ldb_text           decimal             oauthlib            symengine\n",
      "_locale             decorator           olefile             sympy\n",
      "_lsprof             defer               omp                 symtable\n",
      "_lzma               defusedxml          opcode              sys\n",
      "_markupbase         difflib             operator            sysconfig\n",
      "_md5                dill                opt_einsum          syslog\n",
      "_multibytecodec     dis                 optparse            systemd\n",
      "_multiprocessing    distlib             orca                tabnanny\n",
      "_opcode             distro              os                  talloc\n",
      "_operator           distro_info         ossaudiodev         tarfile\n",
      "_osx_support        distutils           packaging           telnetlib\n",
      "_pickle             dns                 pandas              tempfile\n",
      "_posixshmem         doctest             pandocfilters       tensorboard\n",
      "_posixsubprocess    docutils            paramiko            tensorboard_data_server\n",
      "_py_abc             dtaidistance        parsel              tensorboard_plugin_wit\n",
      "_pydecimal          duplicity           parso               tensorflow\n",
      "_pyio               elkanoto            past                tensorflow_estimator\n",
      "_pyrsistent_version elkanotoPuClassifierExample pasta               tensorflow_io_gcs_filesystem\n",
      "_pytest             email               pathlib             termcolor\n",
      "_queue              encodings           patsy               terminado\n",
      "_random             ensurepip           pbr                 termios\n",
      "_rinterface_cffi_abi entrypoints         pcardext            test\n",
      "_rinterface_cffi_api enum                pdb                 testpath\n",
      "_sha1               errno               pexpect             textwrap\n",
      "_sha256             executing           pickle              this\n",
      "_sha3               fasteners           pickleshare         threading\n",
      "_sha512             fastjsonschema      pickletools         threadpoolctl\n",
      "_signal             faulthandler        pip                 time\n",
      "_sitebuiltins       fcntl               pipes               timeit\n",
      "_socket             filecmp             pkg_resources       tinycss2\n",
      "_sqlite3            fileinput           pkgconfig           tkinter\n",
      "_sre                filelock            pkgutil             tldextract\n",
      "_ssl                flatbuffers         platform            token\n",
      "_stat               fnmatch             platformdirs        tokenize\n",
      "_statistics         fontTools           plistlib            toml\n",
      "_string             fpylll              pluggy              tornado\n",
      "_strptime           fractions           ply                 tox\n",
      "_struct             fs                  poplib              tqdm\n",
      "_symtable           ftplib              posix               trace\n",
      "_sysconfigdata__linux_x86_64-linux-gnu functools           posixpath           traceback\n",
      "_sysconfigdata__x86_64-linux-gnu future              ppl                 tracemalloc\n",
      "_testbuffer         gast                pprint              traitlets\n",
      "_testcapi           gc                  preprocessing_method tty\n",
      "_testimportmultiple genericpath         primecountpy        turtle\n",
      "_testinternalcapi   getopt              problem_report      twisted\n",
      "_testmultiphase     getpass             profile             types\n",
      "_thread             gettext             prometheus_client   typing\n",
      "_threading_local    gi                  prompt_toolkit      typing_extensions\n",
      "_tkinter            glob                protego             tzlocal\n",
      "_tracemalloc        glob2               pstats              uaclient\n",
      "_uuid               gmpy2               psutil              ufoLib2\n",
      "_version            google_auth_oauthlib pty                 ufw\n",
      "_warnings           graphlib            ptyprocess          unicodedata\n",
      "_weakref            graphviz            pu code             unicodedata2\n",
      "_weakrefset         gridfs              pu2                 unittest\n",
      "_xxsubinterpreters  grp                 pulearn             uno\n",
      "_xxtestfuzz         grpc                pure_eval           unohelper\n",
      "_yaml               gzip                pvectorc            unweighted_PU\n",
      "_zoneinfo           h5py                pwd                 urllib\n",
      "abc                 hashlib             py                  urllib3\n",
      "absl                heapq               py_compile          usbcreator\n",
      "aifc                hmac                pyasn1              uu\n",
      "alabaster           hpmudext            pyasn1_modules      uuid\n",
      "anomatools          html                pyatspi             venv\n",
      "antigravity         html5lib            pyclbr              virtualenv\n",
      "appdirs             http                pycparser           w3lib\n",
      "apport              httplib2            pydispatch          wadllib\n",
      "apport_python_hook  hyperlink           pydoc               warnings\n",
      "apt                 idlelib             pydoc_data          wave\n",
      "apt_inst            idna                pydotplus           wcwidth\n",
      "apt_pkg             imagesize           pyexpat             weakref\n",
      "aptdaemon           imaplib             pygments            webbrowser\n",
      "aptsources          imghdr              pygtkcompat         webencodings\n",
      "argon2              imp                 pylab               websocket\n",
      "argparse            importlib           pymacaroons         websockets\n",
      "arithmeticOps       importlib_metadata  pymongo             weighted_PU\n",
      "array               incremental         pyparsing           weighted_PU(breastcancer)\n",
      "ast                 iniconfig           pyrfc3339           werkzeug\n",
      "asttokens           inspect             pyrsistent          wheel\n",
      "astunparse          io                  pytest              widgetsnbextension\n",
      "asynchat            ipaddress           pytest_cython       wrapt\n",
      "asyncio             ipykernel           pythran             wsgiref\n",
      "asyncore            ipykernel_launcher  pytz                xdg\n",
      "atexit              ipython_genutils    pyximport           xdrlib\n",
      "attr                ipywidgets          qiskit              xkit\n",
      "attrs               isympy              qiskit_aer          xml\n",
      "audioop             itemadapter         qtconsole           xmlrpc\n",
      "automat             itemloaders         qtpy                xxlimited\n",
      "babel               itertools           queue               xxlimited_35\n",
      "backcall            janitor             queuelib            xxsubtype\n",
      "baggingSVM_PU       jedi                quopri              yaml\n",
      "bagging_PU          jeepney             random              zipapp\n",
      "base64              jinja2              re                  zipfile\n",
      "bcrypt              jmespath            readline            zipimport\n",
      "bdb                 joblib              regex               zipp\n",
      "beniget             json                reportlab           zlib\n",
      "binascii            jsonschema          reprlib             zmq\n",
      "binhex              jupyter             requests            zoneinfo\n",
      "birth_year          jupyter_client      requests_file       \n",
      "bisect              jupyter_console     requests_ntlm       \n",
      "\n",
      "Enter any module name to get more help.  Or, type \"modules spam\" to search\n",
      "for modules whose name or summary contain the string \"spam\".\n",
      "\n"
     ]
    },
    {
     "name": "stderr",
     "output_type": "stream",
     "text": [
      "/usr/lib/python3/dist-packages/usbcreator/frontends/gtk/frontend.py:39: DeprecationWarning: Gdk.threads_init is deprecated\n",
      "  Gdk.threads_init()\n"
     ]
    }
   ],
   "source": [
    "help(\"modules\")"
   ]
  },
  {
   "cell_type": "code",
   "execution_count": 2,
   "metadata": {},
   "outputs": [
    {
     "name": "stdout",
     "output_type": "stream",
     "text": [
      "Package                      Version\n",
      "---------------------------- -------------\n",
      "absl-py                      1.3.0\n",
      "alabaster                    0.7.12\n",
      "anomatools                   2.3.0\n",
      "appdirs                      1.4.4\n",
      "apturl                       0.5.2\n",
      "argon2-cffi                  21.3.0\n",
      "argon2-cffi-bindings         21.2.0\n",
      "asttokens                    2.0.5\n",
      "astunparse                   1.6.3\n",
      "attrs                        21.4.0\n",
      "Automat                      20.2.0\n",
      "Babel                        2.8.0\n",
      "backcall                     0.2.0\n",
      "bcrypt                       3.2.0\n",
      "beautifulsoup4               4.11.1\n",
      "beniget                      0.4.1\n",
      "bleach                       5.0.0\n",
      "blinker                      1.4\n",
      "brial                        1.0.2\n",
      "Brlapi                       0.8.3\n",
      "Brotli                       1.0.9\n",
      "cachetools                   5.2.0\n",
      "Cape                         2.0.0\n",
      "certifi                      2020.6.20\n",
      "cffi                         1.15.0\n",
      "chardet                      4.0.0\n",
      "click                        8.0.3\n",
      "colorama                     0.4.4\n",
      "command-not-found            0.3\n",
      "constantly                   15.1.0\n",
      "cryptography                 38.0.1\n",
      "cssselect                    1.1.0\n",
      "cupshelpers                  1.0\n",
      "cycler                       0.11.0\n",
      "cypari2                      2.1.2\n",
      "Cython                       0.29.28\n",
      "dbus-python                  1.2.18\n",
      "debugpy                      1.6.0\n",
      "decorator                    5.1.1\n",
      "defer                        1.0.6\n",
      "defusedxml                   0.7.1\n",
      "dill                         0.3.6\n",
      "distlib                      0.3.4\n",
      "distro                       1.7.0\n",
      "distro-info                  1.1build1\n",
      "dnspython                    2.2.1\n",
      "docutils                     0.17.1\n",
      "dtaidistance                 2.3.9\n",
      "duplicity                    0.8.21\n",
      "entrypoints                  0.4\n",
      "executing                    0.8.3\n",
      "fasteners                    0.14.1\n",
      "fastjsonschema               2.15.3\n",
      "filelock                     3.6.0\n",
      "flatbuffers                  22.9.24\n",
      "fonttools                    4.29.1\n",
      "fpylll                       0.5.2.dev0\n",
      "fs                           2.4.12\n",
      "future                       0.18.2\n",
      "gast                         0.4.0\n",
      "glob2                        0.7\n",
      "gmpy2                        2.1.2\n",
      "google-auth                  2.12.0\n",
      "google-auth-oauthlib         0.4.6\n",
      "google-pasta                 0.2.0\n",
      "graphviz                     0.20.1\n",
      "grpcio                       1.49.1\n",
      "h5py                         3.7.0\n",
      "html5lib                     1.1\n",
      "httplib2                     0.20.2\n",
      "hyperlink                    21.0.0\n",
      "idna                         3.3\n",
      "imagesize                    1.3.0\n",
      "importlib-metadata           4.6.4\n",
      "incremental                  21.3.0\n",
      "iniconfig                    1.1.1\n",
      "ipykernel                    6.13.0\n",
      "ipython                      8.3.0\n",
      "ipython-genutils             0.2.0\n",
      "ipywidgets                   7.7.0\n",
      "itemadapter                  0.7.0\n",
      "itemloaders                  1.0.6\n",
      "jedi                         0.18.1\n",
      "jeepney                      0.7.1\n",
      "Jinja2                       3.1.2\n",
      "jmespath                     1.0.1\n",
      "joblib                       1.1.0\n",
      "jsonschema                   4.5.1\n",
      "jupyter                      1.0.0\n",
      "jupyter-client               7.3.0\n",
      "jupyter-console              6.4.3\n",
      "jupyter-core                 4.10.0\n",
      "jupyterlab-pygments          0.2.2\n",
      "jupyterlab-widgets           1.1.0\n",
      "keras                        2.10.0\n",
      "Keras-Preprocessing          1.1.2\n",
      "keyring                      23.5.0\n",
      "kiwisolver                   1.3.2\n",
      "language-selector            0.1\n",
      "launchpadlib                 1.10.16\n",
      "lazr.restfulclient           0.14.4\n",
      "lazr.uri                     1.0.6\n",
      "libclang                     14.0.6\n",
      "lockfile                     0.12.2\n",
      "louis                        3.20.0\n",
      "lxml                         4.8.0\n",
      "lz4                          3.1.3+dfsg\n",
      "macaroonbakery               1.3.1\n",
      "Mako                         1.1.3\n",
      "Markdown                     3.4.1\n",
      "MarkupSafe                   2.1.1\n",
      "matplotlib                   3.5.1\n",
      "matplotlib-inline            0.1.3\n",
      "memory-allocator             0.1.2\n",
      "mistune                      0.8.4\n",
      "monotonic                    1.6\n",
      "more-itertools               8.10.0\n",
      "mpmath                       0.0.0\n",
      "nbclient                     0.6.2\n",
      "nbconvert                    6.5.0\n",
      "nbformat                     5.4.0\n",
      "nest-asyncio                 1.5.5\n",
      "netifaces                    0.11.0\n",
      "networkx                     2.4\n",
      "nltk                         3.7\n",
      "notebook                     6.4.11\n",
      "ntlm-auth                    1.5.0\n",
      "numpy                        1.22.3\n",
      "oauthlib                     3.2.0\n",
      "olefile                      0.46\n",
      "opt-einsum                   3.3.0\n",
      "packaging                    21.3\n",
      "pandas                       1.4.3\n",
      "pandocfilters                1.5.0\n",
      "paramiko                     2.9.3\n",
      "parsel                       1.6.0\n",
      "parso                        0.8.3\n",
      "patsy                        0.5.3\n",
      "pbr                          5.11.1\n",
      "pexpect                      4.8.0\n",
      "pickleshare                  0.7.5\n",
      "Pillow                       9.0.1\n",
      "pip                          22.3.1\n",
      "pkgconfig                    1.5.5\n",
      "platformdirs                 2.5.2\n",
      "pluggy                       0.13.0\n",
      "ply                          3.11\n",
      "pplpy                        0.8.7\n",
      "primecountpy                 0.1.0\n",
      "prometheus-client            0.14.1\n",
      "prompt-toolkit               3.0.29\n",
      "Protego                      0.2.1\n",
      "protobuf                     3.12.4\n",
      "psutil                       5.9.0\n",
      "ptyprocess                   0.7.0\n",
      "pulearn                      0.0.7\n",
      "pure-eval                    0.2.2\n",
      "py                           1.10.0\n",
      "pyasn1                       0.4.8\n",
      "pyasn1-modules               0.2.8\n",
      "pycairo                      1.20.1\n",
      "pycparser                    2.21\n",
      "pycups                       2.0.1\n",
      "PyDispatcher                 2.0.6\n",
      "pydotplus                    2.0.2\n",
      "Pygments                     2.12.0\n",
      "PyGObject                    3.42.1\n",
      "PyJWT                        2.3.0\n",
      "pymacaroons                  0.13.0\n",
      "pymongo                      4.3.3\n",
      "PyNaCl                       1.5.0\n",
      "pyOpenSSL                    22.1.0\n",
      "pyparsing                    2.4.7\n",
      "pyRFC3339                    1.1\n",
      "pyrsistent                   0.18.1\n",
      "pytest                       6.2.5\n",
      "pytest-cython                0.1.1\n",
      "python-apt                   2.4.0+ubuntu1\n",
      "python-dateutil              2.8.2\n",
      "python-debian                0.1.43ubuntu1\n",
      "pythran                      0.10.0\n",
      "pytz                         2022.1\n",
      "pyxdg                        0.27\n",
      "PyYAML                       5.4.1\n",
      "pyzmq                        22.3.0\n",
      "qiskit                       0.43.0\n",
      "qiskit-aer                   0.12.0\n",
      "qiskit-ibmq-provider         0.20.2\n",
      "qiskit-terra                 0.24.0\n",
      "qtconsole                    5.3.0\n",
      "QtPy                         2.1.0\n",
      "queuelib                     1.6.2\n",
      "regex                        2022.9.13\n",
      "reportlab                    3.6.8\n",
      "requests                     2.25.1\n",
      "requests-file                1.5.1\n",
      "requests-ntlm                1.1.0\n",
      "requests-oauthlib            1.3.1\n",
      "roman                        3.3\n",
      "rsa                          4.9\n",
      "rustworkx                    0.12.1\n",
      "sagemath-standard            9.5\n",
      "sagenb-export                3.2\n",
      "scikit-learn                 1.0.2\n",
      "scipy                        1.8.0\n",
      "Scrapy                       2.6.3\n",
      "seaborn                      0.12.2\n",
      "SecretStorage                3.3.1\n",
      "Send2Trash                   1.8.0\n",
      "service-identity             21.1.0\n",
      "setuptools                   59.6.0\n",
      "six                          1.16.0\n",
      "sklearn                      0.0\n",
      "snowballstemmer              2.2.0\n",
      "soupsieve                    2.3.2.post1\n",
      "Sphinx                       4.3.2\n",
      "stack-data                   0.2.0\n",
      "statsmodels                  0.13.2\n",
      "stevedore                    5.0.0\n",
      "symengine                    0.9.2\n",
      "sympy                        1.9\n",
      "systemd-python               234\n",
      "tensorboard                  2.10.1\n",
      "tensorboard-data-server      0.6.1\n",
      "tensorboard-plugin-wit       1.8.1\n",
      "tensorflow                   2.10.0\n",
      "tensorflow-estimator         2.10.0\n",
      "tensorflow-io-gcs-filesystem 0.27.0\n",
      "termcolor                    2.0.1\n",
      "terminado                    0.13.3\n",
      "testpath                     0.5.0\n",
      "threadpoolctl                3.1.0\n",
      "tinycss2                     1.1.1\n",
      "tldextract                   3.4.0\n",
      "toml                         0.10.2\n",
      "tornado                      6.1\n",
      "tox                          3.21.4\n",
      "tqdm                         4.64.1\n",
      "traitlets                    5.1.1\n",
      "Twisted                      22.8.0\n",
      "typing_extensions            4.4.0\n",
      "tzlocal                      2.1\n",
      "ubuntu-advantage-tools       8001\n",
      "ubuntu-drivers-common        0.0.0\n",
      "ufoLib2                      0.13.1\n",
      "ufw                          0.36.1\n",
      "unattended-upgrades          0.1\n",
      "unicodedata2                 14.0.0\n",
      "UNKNOWN                      0.0.0\n",
      "urllib3                      1.26.5\n",
      "usb-creator                  0.3.7\n",
      "virtualenv                   20.14.1\n",
      "w3lib                        2.0.1\n",
      "wadllib                      1.3.6\n",
      "wcwidth                      0.2.5\n",
      "webencodings                 0.5.1\n",
      "websocket-client             1.5.1\n",
      "websockets                   11.0.3\n",
      "Werkzeug                     2.2.2\n",
      "wheel                        0.37.1\n",
      "widgetsnbextension           3.6.0\n",
      "wrapt                        1.14.1\n",
      "xdg                          5\n",
      "xkit                         0.0.0\n",
      "zipp                         1.0.0\n",
      "zope.interface               5.5.0\n",
      "\n",
      "\u001b[1m[\u001b[0m\u001b[34;49mnotice\u001b[0m\u001b[1;39;49m]\u001b[0m\u001b[39;49m A new release of pip available: \u001b[0m\u001b[31;49m22.3.1\u001b[0m\u001b[39;49m -> \u001b[0m\u001b[32;49m23.1.2\u001b[0m\n",
      "\u001b[1m[\u001b[0m\u001b[34;49mnotice\u001b[0m\u001b[1;39;49m]\u001b[0m\u001b[39;49m To update, run: \u001b[0m\u001b[32;49mpip install --upgrade pip\u001b[0m\n",
      "Note: you may need to restart the kernel to use updated packages.\n"
     ]
    }
   ],
   "source": [
    "pip list"
   ]
  },
  {
   "cell_type": "code",
   "execution_count": null,
   "metadata": {},
   "outputs": [],
   "source": []
  }
 ],
 "metadata": {
  "kernelspec": {
   "display_name": "Python 3",
   "language": "python",
   "name": "python3"
  },
  "language_info": {
   "codemirror_mode": {
    "name": "ipython",
    "version": 3
   },
   "file_extension": ".py",
   "mimetype": "text/x-python",
   "name": "python",
   "nbconvert_exporter": "python",
   "pygments_lexer": "ipython3",
   "version": "3.10.6"
  },
  "orig_nbformat": 4
 },
 "nbformat": 4,
 "nbformat_minor": 2
}
